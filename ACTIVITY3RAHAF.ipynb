{
 "cells": [
  {
   "cell_type": "code",
   "execution_count": 1,
   "id": "8c93affd",
   "metadata": {},
   "outputs": [
    {
     "data": {
      "text/plain": [
       "<sqlite3.Cursor at 0x21fa3682bc0>"
      ]
     },
     "execution_count": 1,
     "metadata": {},
     "output_type": "execute_result"
    }
   ],
   "source": [
    "#Rahaf Saeed Alhalai 442807504\n",
    "import sqlite3\n",
    "\n",
    "# for Connect to the database\n",
    "conn = sqlite3.connect('students.db')\n",
    "cursor = conn.cursor()\n",
    "\n",
    "# a)Create table and insert data\n",
    "cursor.execute('''CREATE TABLE Student (\n",
    "                    stdID INTEGER PRIMARY KEY,\n",
    "                    stdName TEXT,\n",
    "                    stdMajor TEXT\n",
    "                )''')\n",
    "\n",
    "students = [\n",
    "    (324521, 'Khalid', 'Accounting'),\n",
    "    (334673, 'Ali', 'Computer Science'),\n",
    "    (742421, 'Elias', 'Engineering')\n",
    "]\n",
    "\n",
    "cursor.executemany('INSERT INTO Student VALUES (?, ?, ?)', students)\n",
    "\n"
   ]
  },
  {
   "cell_type": "code",
   "execution_count": 2,
   "id": "f55c077f",
   "metadata": {},
   "outputs": [
    {
     "name": "stdout",
     "output_type": "stream",
     "text": [
      "Is 'age' column added? True\n"
     ]
    }
   ],
   "source": [
    "#Rahaf Saeed Alhalai 442807504\n",
    "# b) all the Operations\n",
    "# 1.Update student Major from 'Accounting' to 'Medicine'\n",
    "cursor.execute(\"UPDATE Student SET stdMajor = 'Medicine' WHERE stdID = 324521\")\n",
    "\n",
    "# 2.Alter table by adding a new column called 'age'\n",
    "cursor.execute(\"ALTER TABLE Student ADD COLUMN age INTEGER\")\n",
    "\n",
    "# this command to Commit the changes\n",
    "conn.commit()\n",
    "\n",
    "# To Check if the new column 'age' was added\n",
    "cursor.execute(\"PRAGMA table_info(Student)\")\n",
    "table_info = cursor.fetchall()\n",
    "column_names = [column[1] for column in table_info]\n",
    "age_column_exists = 'age' in column_names\n",
    "print(f\"Is 'age' column added? {age_column_exists}\")\n",
    "\n"
   ]
  },
  {
   "cell_type": "code",
   "execution_count": 3,
   "id": "f15698c7",
   "metadata": {},
   "outputs": [
    {
     "name": "stdout",
     "output_type": "stream",
     "text": [
      "Does 'Student' table exist? False\n"
     ]
    }
   ],
   "source": [
    "#Rahaf Saeed Alhalai 442807504\n",
    "# 3.Drop the table\n",
    "cursor.execute(\"DROP TABLE Student\")\n",
    "\n",
    "# TO Check if the table exists\n",
    "cursor.execute(\"SELECT name FROM sqlite_master WHERE type='table' AND name='Student'\")\n",
    "table_exists = cursor.fetchone() is not None\n",
    "print(f\"Does 'Student' table exist? {table_exists}\")\n",
    "\n",
    "#after every thing we should Close the connection\n",
    "conn.close()"
   ]
  },
  {
   "cell_type": "code",
   "execution_count": null,
   "id": "a66cf341",
   "metadata": {},
   "outputs": [],
   "source": []
  }
 ],
 "metadata": {
  "kernelspec": {
   "display_name": "Python 3 (ipykernel)",
   "language": "python",
   "name": "python3"
  },
  "language_info": {
   "codemirror_mode": {
    "name": "ipython",
    "version": 3
   },
   "file_extension": ".py",
   "mimetype": "text/x-python",
   "name": "python",
   "nbconvert_exporter": "python",
   "pygments_lexer": "ipython3",
   "version": "3.10.9"
  }
 },
 "nbformat": 4,
 "nbformat_minor": 5
}
